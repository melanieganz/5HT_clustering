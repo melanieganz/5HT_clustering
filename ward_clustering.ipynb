{
 "cells": [
  {
   "cell_type": "code",
   "execution_count": 35,
   "metadata": {
    "collapsed": true
   },
   "outputs": [],
   "source": [
    "# General stuff\n",
    "import os\n",
    "import re\n",
    "import time\n",
    "import warnings\n",
    "import math\n",
    "import sys\n",
    "import scipy.io as sio\n",
    "import numpy as np\n",
    "import matplotlib.pyplot as plt\n",
    "from subprocess import Popen, PIPE\n",
    "from os.path import join as opj\n",
    "from IPython.core.debugger import Tracer\n",
    "\n",
    "# personal functions\n",
    "from importlib import reload\n",
    "import fsutils as fs\n",
    "reload(fs)\n",
    "\n",
    "if os.path.exists('/data1/vbeliveau/'):\n",
    "    # On NRU server\n",
    "    cluster_code='/data1/vbeliveau/5HT_clustering'\n",
    "    cluster_data='/data1/vbeliveau/5HT_clustering_data'\n",
    "    subjects_dir='/usr/local/nru/freesurfer/subjects'\n",
    "elif os.path.exists('C:/Users/vbeliveau/'):\n",
    "    # On laptop\n",
    "    cluster_code='C:/Users/vbeliveau/Documents/GitHub/5HT_clustering'\n",
    "    cluster_data='C:/Users/vbeliveau/Documents/5HT_clustering_data'\n",
    "    subjects_dir='C:/Users/vbeliveau/Downloads/'\n",
    "else:\n",
    "    raise ValueError('Unknown location')\n",
    "    \n",
    "# Analysis directories\n",
    "surf_data=opj(cluster_data,'surf_data')\n",
    "fs.assert_dir(surf_data)\n",
    "BPnd_data=opj(cluster_data,'BPnd')\n",
    "fs.assert_dir(BPnd_data)"
   ]
  },
  {
   "cell_type": "code",
   "execution_count": 36,
   "metadata": {
    "collapsed": false
   },
   "outputs": [
    {
     "name": "stdout",
     "output_type": "stream",
     "text": [
      "Processing cumi\n",
      "Performing ward clustering\n",
      "Saving surface data to file /data1/vbeliveau/5HT_clustering_data/BPnd/ward/cumi.fsaverage5.lh.nii.gz\n",
      "Processing dasb\n",
      "Performing ward clustering\n",
      "Saving surface data to file /data1/vbeliveau/5HT_clustering_data/BPnd/ward/dasb.fsaverage5.lh.nii.gz\n",
      "Processing sb\n",
      "Performing ward clustering\n",
      "Saving surface data to file /data1/vbeliveau/5HT_clustering_data/BPnd/ward/sb.fsaverage5.lh.nii.gz\n",
      "Processing az\n",
      "Performing ward clustering\n",
      "Saving surface data to file /data1/vbeliveau/5HT_clustering_data/BPnd/ward/az.fsaverage5.lh.nii.gz\n",
      "Processing C36\n",
      "Performing ward clustering\n",
      "Saving surface data to file /data1/vbeliveau/5HT_clustering_data/BPnd/ward/C36.fsaverage5.lh.nii.gz\n"
     ]
    }
   ],
   "source": [
    "# Apply Ward on BPnd data\n",
    "tracers=['cumi','dasb','sb','az','C36']\n",
    "targ='fsaverage5'\n",
    "sm='10'\n",
    "hemi_type=['lh']\n",
    "K_range=np.arange(3,100)\n",
    "\n",
    "dest=opj(BPnd_data,'ward')\n",
    "fs.assert_dir(dest)\n",
    "\n",
    "for tracer,nt in zip(tracers,np.arange(0,len(tracers))):\n",
    "    \n",
    "    print('Processing '+tracer)\n",
    "    \n",
    "    for hemi,nh in zip(hemi_type,np.arange(0,len(hemi_type))):\n",
    "        fmask=opj(surf_data,'mask',targ+'.'+hemi)\n",
    "        fname=opj(BPnd_data,'maps',tracer,'mrtm2.nopvc.' + \n",
    "                  targ + '.' + hemi + '.sm' + sm + '.nii.gz')\n",
    "        data=np.mean(fs.load_surf_data(fname,mask=fmask),axis=1)\n",
    "        data=np.reshape(data,[data.shape[0],1])\n",
    "        adj,_=fs.load_surf_neighborhood(opj(surf_data,'neigh',targ+'.'+hemi+'.cortex.matrix'))\n",
    "        fout=opj(dest,tracer+'.'+targ+'.'+hemi+'.nii.gz')\n",
    "        fs.ward_clustering(data,adj,K_range=K_range,save_out=fout,mask=fmask,verbose=True)"
   ]
  }
 ],
 "metadata": {
  "anaconda-cloud": {},
  "kernelspec": {
   "display_name": "Python [conda root]",
   "language": "python",
   "name": "conda-root-py"
  },
  "language_info": {
   "codemirror_mode": {
    "name": "ipython",
    "version": 3
   },
   "file_extension": ".py",
   "mimetype": "text/x-python",
   "name": "python",
   "nbconvert_exporter": "python",
   "pygments_lexer": "ipython3",
   "version": "3.5.2"
  }
 },
 "nbformat": 4,
 "nbformat_minor": 1
}
