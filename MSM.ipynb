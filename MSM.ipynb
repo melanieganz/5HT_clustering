{
 "cells": [
  {
   "cell_type": "code",
   "execution_count": 1,
   "metadata": {
    "collapsed": false
   },
   "outputs": [
    {
     "data": {
      "text/plain": [
       "<module 'fsutils' from '/indirect/data1/Ganz/gitrepos/5HT_clustering_forkmel/fsutils.py'>"
      ]
     },
     "execution_count": 1,
     "metadata": {},
     "output_type": "execute_result"
    },
    {
     "data": {
      "text/plain": [
       "<module 'mynilearn.decomposition' from '/data1/vbeliveau/nilearn/mynilearn/decomposition/__init__.py'>"
      ]
     },
     "execution_count": 1,
     "metadata": {},
     "output_type": "execute_result"
    }
   ],
   "source": [
    "# General stuff\n",
    "import os\n",
    "import re\n",
    "import time\n",
    "import warnings\n",
    "import math\n",
    "import sys\n",
    "import scipy.io as sio\n",
    "import numpy as np\n",
    "import matplotlib.pyplot as plt\n",
    "import nibabel as nib\n",
    "from subprocess import Popen, PIPE\n",
    "from os.path import join as opj\n",
    "from IPython.core.debugger import Tracer\n",
    "from nilearn.decomposition import CanICA,DictLearning\n",
    "from sklearn.decomposition import DictionaryLearning\n",
    "from joblib import Parallel, delayed\n",
    "\n",
    "# sklearn stuff\n",
    "from sklearn.decomposition import TruncatedSVD,FastICA,SparsePCA,MiniBatchSparsePCA\n",
    "from sklearn.utils.extmath import randomized_svd\n",
    "from sklearn.linear_model import Ridge\n",
    "from sklearn.decomposition import dict_learning_online\n",
    "from sklearn.cross_decomposition import CCA\n",
    "from sklearn.preprocessing import scale\n",
    "import sklearn.metrics.cluster as metrics\n",
    "from sklearn.cluster import AgglomerativeClustering\n",
    "from sklearn.cluster.hierarchical import _hc_cut # Internal function to cut ward tree, helps speed up things a lot\n",
    "from sklearn.utils import resample\n",
    "from sklearn.model_selection import KFold\n",
    "\n",
    "# personal functions\n",
    "from importlib import reload\n",
    "import fsutils as fs\n",
    "reload(fs)\n",
    "\n",
    "if os.path.exists('/data1/vbeliveau/'):\n",
    "    # On NRU server\n",
    "    cluster_code='/data1/vbeliveau/5HT_clustering'\n",
    "    cluster_data='/data1/vbeliveau/5HT_clustering_data'\n",
    "    subjects_dir='/usr/local/nru/freesurfer/subjects'\n",
    "elif os.path.exists('C:/Users/vbeliveau/'):\n",
    "    # On laptop\n",
    "    cluster_code='C:/Users/vbeliveau/Documents/GitHub/5HT_clustering'\n",
    "    cluster_data='C:/Users/vbeliveau/Documents/5HT_clustering_data'\n",
    "    subjects_dir='C:/Users/vbeliveau/Downloads/'\n",
    "else:\n",
    "    raise ValueError('Unknown location')\n",
    "    \n",
    "# Load local version of nilearn\n",
    "if os.path.exists('/data1/vbeliveau/'):\n",
    "    sys.path.append('/data1/vbeliveau/nilearn')\n",
    "    import mynilearn.decomposition as dcm \n",
    "    reload(dcm)\n",
    "elif os.path.exists('C:/Users/vbeliveau/'):\n",
    "    sys.path.append('C:/Users/vbeliveau/Downloads/nilearn-master')\n",
    "    import mynilearn.decomposition as dcm\n",
    "    reload(dcm)\n",
    "else:\n",
    "    raise ValueError('Unknown location')\n",
    "    \n",
    "# Analysis directories\n",
    "surf_data=opj(cluster_data,'surf_data')\n",
    "fs.assert_dir(surf_data)\n",
    "BPnd_data=opj(cluster_data,'BPnd')\n",
    "fs.assert_dir(BPnd_data)\n",
    "\n",
    "info_path=opj(cluster_code,'info_alltracers_base_healthy_hrrt.mat')\n",
    "hemi_type=['lh','rh']\n",
    "\n",
    "info=sio.loadmat(info_path)\n",
    "tracers=['cumi','dasb','sb','az','C36']\n",
    "petID=np.array([item for subl in info['petID'] for subsubl in subl for item in subsubl])\n",
    "\n",
    "# define MSMdir\n",
    "data_type = 'bpnd.mrtm2.nopvc'\n",
    "msmDir_code = '/data1/vbeliveau/software/MSM_HOCR_v1/Centos/' # new version?\n",
    "msmDir_raw = '/data1/vbeliveau/5HT_clustering_data/surf_data/'\n",
    "msmDir_rawdata = opj(msmDir_raw,data_type)\n",
    "msmDir_masks = opj(msmDir_raw,'mask')\n",
    "msmDir_proc = '/data1/Ganz/Vincent'; # change this to a place we both can write?\n",
    "msmDir_analysis = opj(msmDir_proc,'analysis',data_type)\n",
    "fs.assert_dir(msmDir_analysis) \n",
    "msmDir_data = opj(msmDir_proc,'surf_data',data_type)\n",
    "fs.assert_dir(msmDir_data) "
   ]
  },
  {
   "cell_type": "code",
   "execution_count": 3,
   "metadata": {
    "collapsed": true
   },
   "outputs": [],
   "source": [
    "# load and prepare data\n",
    "tracers=['az'] #'cumi','dasb','sb','az','C36']\n",
    "hemi_type=['lh'] #,'rh']\n",
    "ico='5'\n",
    "sm='10'\n",
    "if ico=='7':\n",
    "    targ='fsaverage'\n",
    "else:\n",
    "    targ='fsaverage'+ico\n",
    "startlevel='0'\n",
    "fs.assert_dir(opj(msmDir_data,'level'+startlevel)) "
   ]
  },
  {
   "cell_type": "code",
   "execution_count": 15,
   "metadata": {
    "collapsed": false
   },
   "outputs": [],
   "source": [
    "for tracer,nt in zip(tracers,np.arange(0,len(tracers))):\n",
    "    subjlist=petID[np.array([re.search('^'+tracer,x) is not None for x in petID])]\n",
    "    for hemi in hemi_type:\n",
    "        data_whole=np.ndarray(len(subjlist),dtype=object)\n",
    "        # define cortex mask for specific hemisphere\n",
    "        mask_name=opj(msmDir_masks,targ+'.'+hemi)\n",
    "        cortex,medial,_  = fs.load_mask(mask_name)\n",
    "        \n",
    "        for subj,ns in zip(subjlist,np.arange(0,len(subjlist))):     \n",
    "            \n",
    "            fname=opj(msmDir_rawdata,subj + '.ico' + ico + '.' +hemi +'.sm' + sm,'bp.nii.gz')\n",
    "            data = fs.load_surf_data(fname)\n",
    "            # threshold the pet data to be between 0 and 10 \n",
    "            data[data>10]=10\n",
    "            data[data<0]=0\n",
    "            # standardize each subject (excluding the medial wall) to mean 0 std 1\n",
    "            data[medial]=0\n",
    "            data_whole[ns] = np.zeros(data.shape)\n",
    "            data_whole[ns][cortex] = (data[cortex]-data[cortex].mean())/data[cortex].std()\n",
    "            # save the data as txt and nifti files\n",
    "            fname2=opj(msmDir_data,'level'+startlevel,subj + '.ico' + ico + '.' +hemi +'.sm' + sm+'.txt')\n",
    "            np.savetxt(fname2,data_whole[ns],fmt='%.10f')\n",
    "            fname3=opj(msmDir_data,'level'+startlevel,subj + '.ico' + ico + '.' +hemi +'.sm' + sm+'.nii.gz')\n",
    "            fs.save_surf_data(data_whole[ns],fname3)\n",
    "                        \n",
    "        # Save the mean as txt and nifti files\n",
    "        mean_data = np.vstack(data_whole).mean(axis=0)\n",
    "        fname4=opj(msmDir_data,'level'+startlevel,tracer+'.mean.ico' + ico + '.' +hemi +'.sm' + sm+'.txt')\n",
    "        np.savetxt(fname4,mean_data,fmt='%.10f')\n",
    "        fname5=opj(msmDir_data,'level'+startlevel,tracer+'.mean.ico' + ico + '.' +hemi +'.sm' + sm+'.nii.gz')\n",
    "        fs.save_surf_data(mean_data,fname5)\n",
    "        \n",
    "            "
   ]
  },
  {
   "cell_type": "code",
   "execution_count": 4,
   "metadata": {
    "collapsed": false
   },
   "outputs": [
    {
     "name": "stdout",
     "output_type": "stream",
     "text": [
      "Original correlation before doing MSM\n",
      "Correlation to the mean for individual subjects:\n",
      "[0.88293100786985768 0.89502444970677053 0.90070408538815572\n",
      " 0.83069458192936463 0.85215143868940069 0.86659957344364213\n",
      " 0.88603707098659079 0.89521232414777918 0.87575333406275868\n",
      " 0.86087339650042027 0.90698452004443453 0.7695617437234461\n",
      " 0.89350777624513344 0.82552811960308203 0.80442061270092635\n",
      " 0.8840049918511782 0.86538370373455686 0.88581871505695753\n",
      " 0.89775299170867262 0.82909382480688254 0.87569684609541509\n",
      " 0.8319854644333643 0.90482239605551695 0.89415561210916172\n",
      " 0.90550821160795214 0.88670413268328707 0.82929291064645094\n",
      " 0.86340186598350954 0.86836481399198717 0.83380701521902811\n",
      " 0.91940204013201188 0.83760285415900448 0.81352074305993272\n",
      " 0.86333711890868192 0.88675098270409347 0.78015858327277843]\n",
      "Mean correlation to the mean over all subjects:\n",
      "0.863959718146\n"
     ]
    }
   ],
   "source": [
    "print('Original correlation before doing MSM')\n",
    "\n",
    "for tracer,nt in zip(tracers,np.arange(0,len(tracers))):\n",
    "    subjlist=petID[np.array([re.search('^'+tracer,x) is not None for x in petID])]\n",
    "    for hemi,nh in zip(hemi_type,np.arange(0,len(hemi_type))):   \n",
    "        subj_mean_corr_orig=np.ndarray(len(subjlist),dtype=object)\n",
    "        mask,_,_=fs.load_mask(opj(surf_data,'mask',targ+'.'+hemi))\n",
    "        fname_mean=opj(msmDir_data,'level0',tracer + '.mean.ico' + ico  + '.' +hemi +'.sm' + sm + '.txt')              \n",
    "        data2 = np.loadtxt(fname_mean)[mask]\n",
    "\n",
    "        for subj,ns in zip(subjlist,np.arange(0,len(subjlist))): \n",
    "            # correlation\n",
    "            # load individual transformed surfaces and new mean and calculate Pearson correlation coefficient\n",
    "            fname_ind=opj(msmDir_data,'level0',subj + '.ico' + ico  + '.' +hemi +'.sm' + sm + '.txt')\n",
    "            data1 = np.loadtxt(fname_ind)[mask]\n",
    "            c = np.corrcoef(data1,data2)\n",
    "            subj_mean_corr_orig[ns] = c[0][1]\n",
    "    \n",
    "print('Correlation to the mean for individual subjects:')    \n",
    "print(subj_mean_corr_orig)\n",
    "print('Mean correlation to the mean over all subjects:')\n",
    "print(subj_mean_corr_orig.mean())"
   ]
  },
  {
   "cell_type": "code",
   "execution_count": 5,
   "metadata": {
    "collapsed": true
   },
   "outputs": [],
   "source": [
    "def run_msm(msmDir_data,msmDir_code,msmDir_analysis,level,tracer,subj,ico,hemi,sm):\n",
    "    outDir = opj(msmDir_analysis,'level'+str(level),subj + '.ico' + ico + '.' +hemi +'.sm' + sm+'/') # msm needs dash at end of outputdir\n",
    "    fs.assert_dir(outDir)           \n",
    "    log_file=open(opj(outDir,subj + '.ico' + ico  + '.' +hemi +'.sm' + sm +'.log'),'w')\n",
    "    indata_file = opj(msmDir_data,'level0',subj + '.ico' + ico  + '.' +hemi +'.sm' + sm + '.txt')\n",
    "    refdata_file = opj(msmDir_data,'level'+str(level),tracer + '.mean.ico' + ico + '.' +hemi +'.sm' + sm + '.txt')            \n",
    "                \n",
    "    # append the binary mask for the medial wall\n",
    "    if level==0:\n",
    "        refdata_file = opj(msmDir_data,'level'+str(level),tracer + '.mean.ico' + ico + '.' +hemi +'.sm' + sm + '.txt')            \n",
    "        p=Popen([msmDir_code+'/msm','--indata='+indata_file,'--refdata='+refdata_file,'--inmesh='+inmesh_file,\n",
    "                                '--out='+outDir,'--conf='+configFile,'-v'],stdout=log_file, stderr=log_file)\n",
    "    else:\n",
    "        refdata_file = opj(msmDir_analysis,'level'+str(level-1),\n",
    "                           tracer + '.mean.ico' + ico + '.' +hemi +'.sm' + sm + '.new.txt')            \n",
    "        transFile = opj(msmDir_analysis,'level'+str(level-1),subj + '.ico' + ico + '.' +hemi +'.sm' + sm,\n",
    "                                    'sphere.reg.surf.gii')\n",
    "        p=Popen([msmDir_code+'/msm','--indata='+indata_file,'--refdata='+refdata_file,\n",
    "                '--inmesh='+inmesh_file, '--out='+outDir,'--conf='+configFile,'--trans='+transFile,'-v'],\n",
    "                stdout=log_file, stderr=log_file)\n",
    "\n",
    "    p.communicate()\n",
    "    log_file.close()\n",
    "    \n",
    "    \n",
    "    "
   ]
  },
  {
   "cell_type": "code",
   "execution_count": 9,
   "metadata": {
    "collapsed": false
   },
   "outputs": [
    {
     "name": "stdout",
     "output_type": "stream",
     "text": [
      "Using config file msm_sulc_depth_1.config\n",
      "Only generating plots\n"
     ]
    },
    {
     "data": {
      "text/plain": [
       "[<matplotlib.lines.Line2D at 0x7fbce35c3780>]"
      ]
     },
     "execution_count": 9,
     "metadata": {},
     "output_type": "execute_result"
    },
    {
     "data": {
      "image/png": "[encoded data removed]",
      "text/plain": [
       "<matplotlib.figure.Figure at 0x7fbce3647438>"
      ]
     },
     "metadata": {},
     "output_type": "display_data"
    },
    {
     "name": "stdout",
     "output_type": "stream",
     "text": [
      "Correlation to the mean for individual subjects:\n",
      "[0.93353102762908469 0.91774983857576187 0.93309281768822538\n",
      " 0.90724128878965171 0.91463252143668639 0.92000860127722239\n",
      " 0.92958919667723738 0.94415947258302169 0.93247514259008202\n",
      " 0.90085597736823864 0.93550716865216088 0.80629992613365442\n",
      " 0.92355921789437734 0.89831393163919615 0.89486174663728657\n",
      " 0.92130128890247476 0.9158958036306486 0.92262627055905089\n",
      " 0.93850717666401207 0.88386991384408686 0.91950838542484337\n",
      " 0.88410401777078129 0.93517194355110889 0.91625143572891277\n",
      " 0.94366521144732185 0.9448642711283094 0.89119138317120061\n",
      " 0.9309288940769207 0.91548368783813983 0.8747402516627657\n",
      " 0.95935801673716359 0.87303681342107797 0.83397254704187307\n",
      " 0.91270078932019882 0.92463372955907874 0.90356725280946082]\n",
      "Mean correlation to the mean over all subjects:\n",
      "0.912146026663\n",
      "Using config file msm_sulc_depth_2.config\n",
      "Only generating plots\n"
     ]
    },
    {
     "data": {
      "text/plain": [
       "[<matplotlib.lines.Line2D at 0x7fbce354dfd0>]"
      ]
     },
     "execution_count": 9,
     "metadata": {},
     "output_type": "execute_result"
    },
    {
     "data": {
      "image/png": "[encoded data removed]",
      "text/plain": [
       "<matplotlib.figure.Figure at 0x7fbceb9fc630>"
      ]
     },
     "metadata": {},
     "output_type": "display_data"
    },
    {
     "name": "stdout",
     "output_type": "stream",
     "text": [
      "Correlation to the mean for individual subjects:\n",
      "[0.93438290537284874 0.91894123370003822 0.93602554995001686\n",
      " 0.90753264019697766 0.92657228857360874 0.90288826571546776\n",
      " 0.92198460031868268 0.94314511085459285 0.94137846423756955\n",
      " 0.90223973282661529 0.94875735868679789 0.82628774261113735\n",
      " 0.92689073134166033 0.90006604832391368 0.90025604046362673\n",
      " 0.92968595524705588 0.91471065071374813 0.9317465434523714\n",
      " 0.94421311627499149 0.88239760045248627 0.90249487409652873\n",
      " 0.88043010317431125 0.93961370753824536 0.91429743665105812\n",
      " 0.94263752306977289 0.92637441680191046 0.89481460399731505\n",
      " 0.93302247463552201 0.92042322190245662 0.87026255563784249\n",
      " 0.94754257089632798 0.89401807859391469 0.86104336275111415\n",
      " 0.91506860545711433 0.92174086233024921 0.8941319041349709]\n",
      "Mean correlation to the mean over all subjects:\n",
      "0.913833857805\n",
      "Using config file msm_sulc_depth_3.config\n",
      "Only generating plots\n"
     ]
    },
    {
     "data": {
      "text/plain": [
       "[<matplotlib.lines.Line2D at 0x7fbce809d6a0>]"
      ]
     },
     "execution_count": 9,
     "metadata": {},
     "output_type": "execute_result"
    },
    {
     "data": {
      "image/png": "[encoded data removed]",
      "text/plain": [
       "<matplotlib.figure.Figure at 0x7fbce3558160>"
      ]
     },
     "metadata": {},
     "output_type": "display_data"
    },
    {
     "name": "stdout",
     "output_type": "stream",
     "text": [
      "Correlation to the mean for individual subjects:\n",
      "[0.92773673665661005 0.92633230317364779 0.9324732299032723\n",
      " 0.90719575349729875 0.92378323141273488 0.91223066155962507\n",
      " 0.93761128934954707 0.95190849139363931 0.93546227137945603\n",
      " 0.895375480926488 0.93937318317717422 0.82794787925199675\n",
      " 0.93441043843705041 0.89164483661379157 0.89565498775992769\n",
      " 0.92503506030240568 0.90953951050213533 0.9339568320142968\n",
      " 0.94247275505432371 0.89370936183154337 0.91364620995008672\n",
      " 0.88686282685210793 0.94359065891602922 0.91756598970043002\n",
      " 0.94502091325238369 0.95185359044910012 0.89110401207294443\n",
      " 0.93471089311297106 0.91098872160715472 0.8740322806710914\n",
      " 0.95060794838209539 0.88906208111523577 0.83496530943945124\n",
      " 0.92782892029216324 0.92918156330998469 0.88598339019986871]\n",
      "Mean correlation to the mean over all subjects:\n",
      "0.914746100098\n",
      "Using config file msm_sulc_depth_4.config\n",
      "Only generating plots\n"
     ]
    },
    {
     "data": {
      "text/plain": [
       "[<matplotlib.lines.Line2D at 0x7fbce34c06a0>]"
      ]
     },
     "execution_count": 9,
     "metadata": {},
     "output_type": "execute_result"
    },
    {
     "data": {
      "image/png": "[encoded data removed]",
      "text/plain": [
       "<matplotlib.figure.Figure at 0x7fbce8084f28>"
      ]
     },
     "metadata": {},
     "output_type": "display_data"
    },
    {
     "name": "stdout",
     "output_type": "stream",
     "text": [
      "Correlation to the mean for individual subjects:\n",
      "[0.91907122334142599 0.93237279557691077 0.93725206000443217\n",
      " 0.9075465047404272 0.9192389376519432 0.92445678304152346\n",
      " 0.94189619114021517 0.94537920767141848 0.9395462912982997\n",
      " 0.91431177574554745 0.93684273635752446 0.84443965342189753\n",
      " 0.93561611203781503 0.90148972287209017 0.89201284629657429\n",
      " 0.93243588397490584 0.91380338224597346 0.93033122283710445\n",
      " 0.9407198520333816 0.89454921640497431 0.91079285639373098\n",
      " 0.89964436281160776 0.94206301645376567 0.92766656541883796\n",
      " 0.94956543900614421 0.94650036205472432 0.89622751382122012\n",
      " 0.92909764410715112 0.92380693267621683 0.8811702735206407\n",
      " 0.95407247508738446 0.87355036645509598 0.8386673934867499\n",
      " 0.92822318761740952 0.92504294955923838 0.89828797315102138]\n",
      "Mean correlation to the mean over all subjects:\n",
      "0.917435880842\n",
      "Using config file msm_sulc_depth_5.config\n",
      "Only generating plots\n"
     ]
    },
    {
     "data": {
      "text/plain": [
       "[<matplotlib.lines.Line2D at 0x7fbce34ba6d8>]"
      ]
     },
     "execution_count": 9,
     "metadata": {},
     "output_type": "execute_result"
    },
    {
     "data": {
      "image/png": "[encoded data removed]",
      "text/plain": [
       "<matplotlib.figure.Figure at 0x7fbce3596160>"
      ]
     },
     "metadata": {},
     "output_type": "display_data"
    },
    {
     "name": "stdout",
     "output_type": "stream",
     "text": [
      "Correlation to the mean for individual subjects:\n",
      "[0.91278234002539171 0.93274058674586446 0.93289742872597192\n",
      " 0.88844096383881321 0.8939302988630734 0.90898251294203047\n",
      " 0.93592955880587969 0.92811527934567617 0.92160394224812359\n",
      " 0.89896231258205195 0.93382690659488776 0.83502220116584591\n",
      " 0.92335795275201682 0.88230907472883469 0.86616418092171921\n",
      " 0.92330623989933913 0.89889218608114863 0.92523455783300501\n",
      " 0.93758736234232776 0.87937953790291334 0.90717016353031243\n",
      " 0.87610440338131845 0.9424856927754055 0.91895808698040249\n",
      " 0.93810258576279215 0.9398927580785218 0.87322952325020642\n",
      " 0.91783259976607845 0.90314193030677992 0.86565251782343766\n",
      " 0.94501789009856707 0.87853344090070162 0.85620446022423824\n",
      " 0.90916879760200819 0.91743149431954973 0.8657314905876643]\n",
      "Mean correlation to the mean over all subjects:\n",
      "0.905947868326\n"
     ]
    }
   ],
   "source": [
    "# run msm command\n",
    "plotOnly =True\n",
    "\n",
    "tracers=['az'] #'cumi','dasb','sb','az','C36']\n",
    "hemi_type=['lh'] #,'rh']\n",
    "ico='5'\n",
    "sm='10'\n",
    "if ico=='7':\n",
    "    targ='fsaverage'\n",
    "else:\n",
    "    targ='fsaverage'+ico\n",
    "levels=5 #10\n",
    "config_levels=5\n",
    "\n",
    "# define config file, see https://fsl.fmrib.ox.ac.uk/fsl/fslwiki/MSM/UserGuide for details\n",
    "\n",
    "for i in range(1,config_levels+1):\n",
    "    configFile = opj(msmDir_proc,'msm_sulc_depth_{0}.config'.format(i))\n",
    "    print('Using config file msm_sulc_depth_{0}.config'.format(i))\n",
    "    \n",
    "    msmDir_analysis = opj(msmDir_proc,'analysis',data_type,'configFile_'+str(i))\n",
    "    fs.assert_dir(msmDir_analysis)\n",
    "    \n",
    "    if not plotOnly:\n",
    "\n",
    "        print('Calculating MSM registrations')\n",
    "        mean_corr= np.ndarray(len(hemi_type),dtype=object)   \n",
    "        for nh in np.arange(0,len(hemi_type)):\n",
    "            mean_corr[nh] = np.ndarray((levels-1,len(tracers)))\n",
    "\n",
    "        # Procedure \n",
    "        # 4) repeat the steps 1-3 below for a number of steps\n",
    "        for level in range(0,levels):    \n",
    "            fs.assert_dir(opj(msmDir_analysis,'level'+str(level))) \n",
    "            # 1) use sulc aligned functional data on the spherical mesh and align the single subject once given \n",
    "            # definition of spherical mesh\n",
    "            print('Running MSM')\n",
    "            for tracer,nt in zip(tracers,np.arange(0,len(tracers))):\n",
    "                subjlist=petID[np.array([re.search('^'+tracer,x) is not None for x in petID])]\n",
    "                for hemi in hemi_type:\n",
    "                    inmesh_file = opj('/usr/local/nru/freesurfer/subjects',targ,'surf/'+hemi+'.sphere.shape.gii')\n",
    "                    Parallel(n_jobs=20)(delayed (run_msm)(msmDir_data,msmDir_code,msmDir_analysis,level,tracer,subj,ico,hemi,sm) for subj in subjlist)\n",
    "\n",
    "\n",
    "            # 2) transform functional data on each subject and redefine an atlas based on the transformed subjects\n",
    "            # in the msm output folder there is already a file called resampledandprojected.func.gii which is the input data \n",
    "            # passed through the MSM warp and projected onto the target surface (useful for vertex-wise comparison with the target). \n",
    "            print('Transform functional data and build new atlas')\n",
    "            for tracer,nt in zip(tracers,np.arange(0,len(tracers))):\n",
    "                subjlist=petID[np.array([re.search('^'+tracer,x) is not None for x in petID])]\n",
    "                for hemi in hemi_type:\n",
    "                    data=np.ndarray(len(subjlist),dtype=object)\n",
    "                    for subj,ns in zip(subjlist,np.arange(0,len(subjlist))):        \n",
    "                        outDir = opj(msmDir_analysis,'level'+str(level),subj + '.ico' + ico + '.' +hemi +'.sm' + sm) \n",
    "                        fs.assert_dir(outDir) \n",
    "                        fname=opj(outDir,'transformed_and_reprojected.func.gii')\n",
    "                        gstruct = nib.load(fname)\n",
    "                        data[ns]=gstruct.darrays[0].data\n",
    "\n",
    "                    # Save new mean out\n",
    "                    mean_data = np.vstack(data).mean(axis=0)\n",
    "                    fname2=opj(msmDir_analysis,'level'+str(level),tracer+'.mean.ico' + ico + '.' +hemi +'.sm' + sm+'.new.txt')\n",
    "                    np.savetxt(fname2,mean_data,fmt='%.10f')\n",
    "                    # save as nii too\n",
    "                    fname3=opj(msmDir_analysis,'level'+str(level),tracer+'.mean.ico' + ico + '.' +hemi +'.sm' + sm+'.new.nii.gz')\n",
    "                    fs.save_surf_data(mean_data,fname3)\n",
    "\n",
    "            # 3) evaluate areal distortion and correlation\n",
    "            print('Calculate areal distortion and correlation')\n",
    "            for tracer,nt in zip(tracers,np.arange(0,len(tracers))):\n",
    "                subjlist=petID[np.array([re.search('^'+tracer,x) is not None for x in petID])]\n",
    "                for hemi in hemi_type:\n",
    "                    inmesh_file = opj('/usr/local/nru/freesurfer/subjects',targ,'surf/'+hemi+'.sphere.shape.gii')\n",
    "                    areal_dist=np.ndarray(len(subjlist),dtype=object)\n",
    "                    subj_mean_corr=np.ndarray(len(subjlist),dtype=object)\n",
    "\n",
    "                    mask,_,_=fs.load_mask(opj(surf_data,'mask',targ+'.'+hemi))\n",
    "\n",
    "                    fname_mean=opj(msmDir_analysis,'level'+str(level),tracer+'.mean.ico' + ico + '.' +hemi +'.sm' + sm+'.new.txt')\n",
    "                    data2 = np.loadtxt(fname_mean)[mask]\n",
    "\n",
    "                    for subj,ns in zip(subjlist,np.arange(0,len(subjlist))): \n",
    "                        outDir = opj(msmDir_analysis,'level'+str(level),subj + '.ico' + ico + '.' +hemi +'.sm' + sm+'/') # msm needs dash at end of outputdir\n",
    "                        fs.assert_dir(outDir) \n",
    "                        log_file_name = opj(outDir,subj + '.ico' + ico  + '.' +hemi +'.sm' + sm +'.distortion.log')\n",
    "                        log_file=open(log_file_name,'w')\n",
    "                        transformedmesh_file = opj(outDir,'sphere.reg.surf.gii')\n",
    "                        # areal distortion\n",
    "                        p=Popen([msmDir_code+'/estimate_metric_distortion',inmesh_file,transformedmesh_file,outDir,'-abs'],stdout=log_file, stderr=log_file)\n",
    "                        p.communicate()\n",
    "                        log_file.close()\n",
    "                        # extract mean areal distortion from log file\n",
    "                        with open(log_file_name) as f:\n",
    "                            f = f.readlines()\n",
    "                        for line in f:   \n",
    "                             if \"mean=\" in line:\n",
    "                                    pos = line.find('=')\n",
    "                                    areal_dist[ns] = float(line[pos+1:pos+9])\n",
    "                                    break\n",
    "\n",
    "\n",
    "                        # correlation\n",
    "                        # load individual transformed surfaces and new mean and calculate Pearson correlation coefficient\n",
    "                        fname_ind=opj(outDir,'transformed_and_reprojected.func.gii')\n",
    "                        gstruct = nib.load(fname_ind)\n",
    "                        data1=gstruct.darrays[0].data[mask]\n",
    "\n",
    "                        c = np.corrcoef(data1,data2)\n",
    "                        subj_mean_corr[ns] = c[0][1]\n",
    "\n",
    "                    mean_corr[nh][level-1,nt] = subj_mean_corr.mean()\n",
    "\n",
    "                # print the mean areal distortion and correlation to mean over all single subjects for a given tracer\n",
    "                print(np.mean(areal_dist))\n",
    "                print(np.mean(subj_mean_corr))\n",
    "\n",
    "                # show areal distortion and correlation to mean over all single subjects for a given tracer\n",
    "                fig = plt.figure()\n",
    "                plt.plot(areal_dist,subj_mean_corr,'ro')\n",
    "                plt.xlabel('Mean areal distortion')\n",
    "                plt.ylabel('Pearson correlation to mean')\n",
    "                plt.show()\n",
    "\n",
    "\n",
    "    else:\n",
    "        print('Only generating plots')\n",
    "        mean_corr= np.ndarray(len(hemi_type),dtype=object)   \n",
    "        for nh in np.arange(0,len(hemi_type)):\n",
    "            mean_corr[nh] = np.ndarray((levels-1,len(tracers)))\n",
    "\n",
    "        for level in range(0,levels): \n",
    "            for tracer,nt in zip(tracers,np.arange(0,len(tracers))):\n",
    "                subjlist=petID[np.array([re.search('^'+tracer,x) is not None for x in petID])]\n",
    "                for hemi,nh in zip(hemi_type,np.arange(0,len(hemi_type))):                \n",
    "                    inmesh_file = opj('/usr/local/nru/freesurfer/subjects',targ,'surf/'+hemi+'.sphere.shape.gii')\n",
    "                    areal_dist=np.ndarray(len(subjlist),dtype=object)\n",
    "                    subj_mean_corr=np.ndarray(len(subjlist),dtype=object)\n",
    "\n",
    "                    mask,_,_=fs.load_mask(opj(surf_data,'mask',targ+'.'+hemi))\n",
    "\n",
    "                    fname_mean=opj(msmDir_analysis,'level'+str(level),tracer+'.mean.ico' + ico + '.' +hemi +'.sm' + sm+'.new.txt')\n",
    "                    data2 = np.loadtxt(fname_mean)[mask]\n",
    "\n",
    "                    for subj,ns in zip(subjlist,np.arange(0,len(subjlist))): \n",
    "                        outDir = opj(msmDir_analysis,'level'+str(level),subj + '.ico' + ico + '.' +hemi +'.sm' + sm) \n",
    "                        log_file_name = opj(outDir,subj + '.ico' + ico  + '.' +hemi +'.sm' + sm +'.distortion.log')\n",
    "                        # extract mean areal distortion from log file\n",
    "                        with open(log_file_name) as f:\n",
    "                            f = f.readlines()\n",
    "                        for line in f:   \n",
    "                             if \"mean=\" in line:\n",
    "                                    pos = line.find('=')\n",
    "                                    areal_dist[ns] = float(line[pos+1:pos+9])\n",
    "                                    break\n",
    "\n",
    "                        # correlation\n",
    "                        # load individual transformed surfaces and new mean and calculate Pearson correlation coefficient\n",
    "                        fname_ind=opj(outDir,'transformed_and_reprojected.func.gii')\n",
    "                        gstruct = nib.load(fname_ind)\n",
    "                        data1=gstruct.darrays[0].data[mask]\n",
    "\n",
    "                        c = np.corrcoef(data1,data2)\n",
    "                        subj_mean_corr[ns] = c[0][1]\n",
    "\n",
    "                    mean_corr[nh][level-1,nt] = subj_mean_corr.mean()\n",
    "\n",
    "                # print the mean areal distortion and correlation to mean over all single subjects for a given tracer\n",
    "    #             print('Mean areal distortion for level ',str(level)) \n",
    "    #             print(np.mean(areal_dist))\n",
    "    #             print('Mean correlation to the mean for level ',str(level)) \n",
    "    #             print(np.mean(subj_mean_corr))\n",
    "\n",
    "    #             # show areal distortion and correlation to mean over all single subjects for a given tracer\n",
    "    #             print('Showing level ',str(level)) \n",
    "    #             fig = plt.figure()\n",
    "    #             plt.plot(areal_dist,subj_mean_corr,'ro')\n",
    "    #             plt.xlabel('Mean areal distortion')\n",
    "    #             plt.ylabel('Pearson correlation to mean')\n",
    "    #             plt.show()\n",
    "\n",
    "        nh = 0\n",
    "        for nt in np.arange(0,len(tracers)):\n",
    "            plt.plot(np.arange(0,levels-1),mean_corr[nh][:,nt])\n",
    "        plt.show()\n",
    "\n",
    "        print('Correlation to the mean for individual subjects:')    \n",
    "        print(subj_mean_corr)\n",
    "        print('Mean correlation to the mean over all subjects:')\n",
    "        print(subj_mean_corr.mean())"
   ]
  },
  {
   "cell_type": "code",
   "execution_count": null,
   "metadata": {
    "collapsed": true
   },
   "outputs": [],
   "source": []
  }
 ],
 "metadata": {
  "anaconda-cloud": {},
  "kernelspec": {
   "display_name": "Python [default]",
   "language": "python",
   "name": "python3"
  },
  "language_info": {
   "codemirror_mode": {
    "name": "ipython",
    "version": 3
   },
   "file_extension": ".py",
   "mimetype": "text/x-python",
   "name": "python",
   "nbconvert_exporter": "python",
   "pygments_lexer": "ipython3",
   "version": "3.5.2"
  }
 },
 "nbformat": 4,
 "nbformat_minor": 1
}
