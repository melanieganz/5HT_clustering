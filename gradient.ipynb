{
 "cells": [
  {
   "cell_type": "code",
   "execution_count": 40,
   "metadata": {
    "collapsed": true
   },
   "outputs": [],
   "source": [
    "# General stuff\n",
    "import os\n",
    "import re\n",
    "import time\n",
    "import warnings\n",
    "import math\n",
    "import sys\n",
    "import scipy.io as sio\n",
    "import numpy as np\n",
    "import matplotlib.pyplot as plt\n",
    "import nibabel as nib\n",
    "from subprocess import Popen, PIPE\n",
    "from os.path import join as opj\n",
    "from IPython.core.debugger import Tracer\n",
    "from nilearn.decomposition import CanICA,DictLearning\n",
    "from sklearn.decomposition import DictionaryLearning\n",
    "\n",
    "# sklearn stuff\n",
    "from sklearn.decomposition import TruncatedSVD,FastICA,SparsePCA,MiniBatchSparsePCA\n",
    "from sklearn.utils.extmath import randomized_svd\n",
    "from sklearn.linear_model import Ridge\n",
    "from sklearn.decomposition import dict_learning_online\n",
    "from sklearn.cross_decomposition import CCA\n",
    "from sklearn.preprocessing import scale\n",
    "import sklearn.metrics.cluster as metrics\n",
    "from sklearn.cluster import AgglomerativeClustering\n",
    "from sklearn.cluster.hierarchical import _hc_cut # Internal function to cut ward tree, helps speed up things a lot\n",
    "from sklearn.utils import resample\n",
    "from sklearn.model_selection import KFold\n",
    "\n",
    "# personal functions\n",
    "from importlib import reload\n",
    "import fsutils as fs\n",
    "reload(fs)\n",
    "\n",
    "if os.path.exists('/data1/vbeliveau/'):\n",
    "    # On NRU server\n",
    "    cluster_code='/data1/vbeliveau/5HT_clustering'\n",
    "    cluster_data='/data1/vbeliveau/5HT_clustering_data'\n",
    "    subjects_dir='/usr/local/nru/freesurfer/subjects'\n",
    "elif os.path.exists('C:/Users/vbeliveau/'):\n",
    "    # On laptop\n",
    "    cluster_code='C:/Users/vbeliveau/Documents/GitHub/5HT_clustering'\n",
    "    cluster_data='C:/Users/vbeliveau/Documents/5HT_clustering_data'\n",
    "    subjects_dir='C:/Users/vbeliveau/Downloads/'\n",
    "else:\n",
    "    raise ValueError('Unknown location')\n",
    "    \n",
    "# Load local version of nilearn\n",
    "if os.path.exists('/data1/vbeliveau/'):\n",
    "    sys.path.append('/data1/vbeliveau/nilearn')\n",
    "    import mynilearn.decomposition as dcm \n",
    "    reload(dcm)\n",
    "elif os.path.exists('C:/Users/vbeliveau/'):\n",
    "    sys.path.append('C:/Users/vbeliveau/Downloads/nilearn-master')\n",
    "    import mynilearn.decomposition as dcm\n",
    "    reload(dcm)\n",
    "else:\n",
    "    raise ValueError('Unknown location')\n",
    "    \n",
    "# Analysis directories\n",
    "surf_data=opj(cluster_data,'surf_data')\n",
    "fs.assert_dir(surf_data)\n",
    "BPnd_data=opj(cluster_data,'BPnd')\n",
    "fs.assert_dir(BPnd_data)\n",
    "MFA_data=opj(cluster_data,'MFA')\n",
    "MFA_preproc=opj(MFA_data,'preproc')\n",
    "fs.assert_dir(MFA_data)\n",
    "fs.assert_dir(MFA_preproc)\n",
    "\n",
    "info_path=opj(cluster_code,'info_alltracers_base_healthy_hrrt.mat')\n",
    "hemi_type=['lh','rh']\n",
    "\n",
    "info=sio.loadmat(info_path)\n",
    "tracers=['cumi','dasb','sb','az','C36']\n",
    "petID=np.array([item for subl in info['petID'] for subsubl in subl for item in subsubl])\n",
    "mrID=np.array([item for subl in info['mrID'] for subsubl in subl for item in subsubl])"
   ]
  },
  {
   "cell_type": "code",
   "execution_count": null,
   "metadata": {
    "collapsed": true
   },
   "outputs": [],
   "source": [
    "# Compute gradient structure for surfaces\n",
    "\n",
    "targ_list=['fsaverage5']\n",
    "surf_type='inflated'\n",
    "hemi=['lh','rh']\n",
    "\n",
    "for targ in targ_list:\n",
    "    for hemi in hemi_type:\n",
    "        fname=opj(subjects_dir,targ,'surf',hemi+'.'+surf_type)\n",
    "        fmask=opj(surf_data,'mask.'+targ+'.'+hemi)\n",
    "        fout=opj(surf_data,'gradstruct.'+targ+'.'+surf_type+'.'+hemi)\n",
    "        proj,neigh,cortex,border=fs.surf_gradient_struct(fname,fmask,\n",
    "                            verbose=True,validate_rotation=True,save_out=fout)"
   ]
  },
  {
   "cell_type": "code",
   "execution_count": null,
   "metadata": {
    "collapsed": true
   },
   "outputs": [],
   "source": [
    "# Compute gradient for BPnd\n",
    "\n",
    "tracers=['cumi','dasb','sb','az','C36']\n",
    "targ='fsaverage5'\n",
    "hemi_type=['lh','rh']\n",
    "sm='10'\n",
    "surf_type='sphere'\n",
    "fgrad=opj(surf_data,'gradstruct.'+targ+'.'+surf_type+'.'+hemi)\n",
    "\n",
    "# Process BPnd\n",
    "grad_dest=opj(BPnd_data,'gradient')\n",
    "fs.assert_dir(grad_dest)\n",
    "for tracer in tracers:\n",
    "    tracer_dest=opj(grad_dest,tracer)\n",
    "    fs.assert_dir(tracer_dest)    \n",
    "    for hemi in hemi_type:\n",
    "        # Compute area ratio\n",
    "        for subj in subjlist:\n",
    "            fname=opt(surf_data,'area',subj+'.ico'+ico+'.'+hemi+'.nii.gz')\n",
    "            img=fs.load_surf_data()\n",
    "        corrected=\n",
    "        \n",
    "        fi='mean.mrtm2.nopvc.' + targ+'.'+ hemi + '.sm' + sm + '.nii.gz'\n",
    "        fo='mean.mrtm2.nopvc.' + targ+'.'+surf_type+'.'+ hemi + '.sm' + sm + '.nii.gz'\n",
    "        fname=opj(BPnd_data,'maps',tracer,fi)        \n",
    "        data=fs.load_surf_data(fname)\n",
    "        save_out=opj(tracer_dest,'grad.'+fo)\n",
    "        area_ratio=fs.surf_area_ratio()\n",
    "        grad=fs.surf_gradient(data,fgrad,save_out=save_out,verbose=True)"
   ]
  },
  {
   "cell_type": "code",
   "execution_count": 12,
   "metadata": {
    "collapsed": false
   },
   "outputs": [],
   "source": [
    "a=re.search('^sb','dasb')\n",
    "a"
   ]
  },
  {
   "cell_type": "code",
   "execution_count": 42,
   "metadata": {
    "collapsed": false
   },
   "outputs": [],
   "source": [
    "tracer='cumi'\n",
    "ind=np.array([re.search('^'+tracer,x) is not None for x in petID])\n",
    "subjlist=[x+'_GD' for x in mrID[ind]]"
   ]
  },
  {
   "cell_type": "code",
   "execution_count": 43,
   "metadata": {
    "collapsed": false
   },
   "outputs": [
    {
     "data": {
      "text/plain": [
       "['f6598_GD',\n",
       " 'f5890_GD',\n",
       " 'f6184_GD',\n",
       " 'f6200_GD',\n",
       " 'f6456_GD',\n",
       " 'f6836_GD',\n",
       " 'f6808_GD',\n",
       " 'f6842_GD']"
      ]
     },
     "execution_count": 43,
     "metadata": {},
     "output_type": "execute_result"
    }
   ],
   "source": [
    "subjlist"
   ]
  }
 ],
 "metadata": {
  "anaconda-cloud": {},
  "kernelspec": {
   "display_name": "Python [conda root]",
   "language": "python",
   "name": "conda-root-py"
  },
  "language_info": {
   "codemirror_mode": {
    "name": "ipython",
    "version": 3
   },
   "file_extension": ".py",
   "mimetype": "text/x-python",
   "name": "python",
   "nbconvert_exporter": "python",
   "pygments_lexer": "ipython3",
   "version": "3.5.2"
  }
 },
 "nbformat": 4,
 "nbformat_minor": 1
}
