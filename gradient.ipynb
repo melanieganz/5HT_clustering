{
 "cells": [
  {
   "cell_type": "code",
   "execution_count": 1,
   "metadata": {
    "collapsed": false
   },
   "outputs": [],
   "source": [
    "# General stuff\n",
    "import os\n",
    "import re\n",
    "import time\n",
    "import warnings\n",
    "import math\n",
    "import sys\n",
    "import scipy.io as sio\n",
    "import numpy as np\n",
    "import matplotlib.pyplot as plt\n",
    "import nibabel as nib\n",
    "from subprocess import Popen, PIPE\n",
    "from os.path import join as opj\n",
    "from IPython.core.debugger import Tracer\n",
    "from joblib import Parallel, delayed\n",
    "from nilearn.decomposition import CanICA,DictLearning\n",
    "from sklearn.decomposition import DictionaryLearning\n",
    "\n",
    "# sklearn stuff\n",
    "from sklearn.decomposition import TruncatedSVD,FastICA,SparsePCA,MiniBatchSparsePCA\n",
    "from sklearn.utils.extmath import randomized_svd\n",
    "from sklearn.linear_model import Ridge\n",
    "from sklearn.decomposition import dict_learning_online\n",
    "from sklearn.cross_decomposition import CCA\n",
    "from sklearn.preprocessing import scale\n",
    "import sklearn.metrics.cluster as metrics\n",
    "from sklearn.cluster import AgglomerativeClustering\n",
    "from sklearn.cluster.hierarchical import _hc_cut # Internal function to cut ward tree, helps speed up things a lot\n",
    "from sklearn.utils import resample\n",
    "from sklearn.model_selection import KFold\n",
    "\n",
    "# personal functions\n",
    "from importlib import reload\n",
    "import fsutils as fs\n",
    "reload(fs)\n",
    "\n",
    "if os.path.exists('/data1/vbeliveau/'):\n",
    "    # On NRU server\n",
    "    cluster_code='/data1/vbeliveau/5HT_clustering'\n",
    "    cluster_data='/data1/vbeliveau/5HT_clustering_data'\n",
    "    atlas_dir='/data2/5HT_atlas'\n",
    "    importPET=opj(atlas_dir,'import','PET')\n",
    "    procPET=opj(atlas_dir,'proc','PET')\n",
    "    subjects_dir=opj(atlas_dir,'proc','MR','recon_final')\n",
    "elif os.path.exists('C:/Users/vbeliveau/'):\n",
    "    # On laptop\n",
    "    cluster_code='C:/Users/vbeliveau/Documents/GitHub/5HT_clustering'\n",
    "    cluster_data='C:/Users/vbeliveau/Documents/5HT_clustering_data'\n",
    "    subjects_dir='C:/Users/vbeliveau/Downloads/'\n",
    "else:\n",
    "    raise ValueError('Unknown location')\n",
    "    \n",
    "# Load local version of nilearn\n",
    "if os.path.exists('/data1/vbeliveau/'):\n",
    "    sys.path.append('/data1/vbeliveau/nilearn')\n",
    "    import mynilearn.decomposition as dcm \n",
    "    reload(dcm)\n",
    "elif os.path.exists('C:/Users/vbeliveau/'):\n",
    "    sys.path.append('C:/Users/vbeliveau/Downloads/nilearn-master')\n",
    "    import mynilearn.decomposition as dcm\n",
    "    reload(dcm)\n",
    "else:\n",
    "    raise ValueError('Unknown location')\n",
    "    \n",
    "# Analysis directories\n",
    "surf_data=opj(cluster_data,'surf_data')\n",
    "fs.assert_dir(surf_data)\n",
    "BPnd_data=opj(cluster_data,'BPnd')\n",
    "fs.assert_dir(BPnd_data)\n",
    "MFA_data=opj(cluster_data,'MFA')\n",
    "MFA_preproc=opj(MFA_data,'preproc')\n",
    "fs.assert_dir(MFA_data)\n",
    "fs.assert_dir(MFA_preproc)\n",
    "\n",
    "info_path=opj(cluster_code,'info_alltracers_base_healthy_hrrt.mat')\n",
    "hemi_type=['lh','rh']\n",
    "\n",
    "info=sio.loadmat(info_path)\n",
    "tracers=['cumi','dasb','sb','az','C36']\n",
    "petID=np.array([item for subl in info['petID'] for subsubl in subl for item in subsubl])\n",
    "mrID=np.array([item for subl in info['mrID'] for subsubl in subl for item in subsubl])"
   ]
  },
  {
   "cell_type": "code",
   "execution_count": null,
   "metadata": {
    "collapsed": false
   },
   "outputs": [
    {
     "name": "stdout",
     "output_type": "stream",
     "text": [
      "Processing /data2/5HT_atlas/proc/MR/recon_final/fsaverage6/surf/lh.sphere\n",
      "Extracting cortical vertices bordering medial wall\n",
      "Computing gradient structure for cortical vertices\n",
      "> \u001b[0;32m/indirect/data1/vbeliveau/5HT_clustering/fsutils.py\u001b[0m(503)\u001b[0;36msurf_gradient_struct\u001b[0;34m()\u001b[0m\n",
      "\u001b[0;32m    501 \u001b[0;31m        \u001b[0mTracer\u001b[0m\u001b[0;34m(\u001b[0m\u001b[0;34m)\u001b[0m\u001b[0;34m(\u001b[0m\u001b[0;34m)\u001b[0m\u001b[0;34m\u001b[0m\u001b[0m\n",
      "\u001b[0m\u001b[0;32m    502 \u001b[0;31m        \u001b[0;31m# Find the normal of each face the current vertice is part of and take the average\u001b[0m\u001b[0;34m\u001b[0m\u001b[0;34m\u001b[0m\u001b[0m\n",
      "\u001b[0m\u001b[0;32m--> 503 \u001b[0;31m        \u001b[0mfaces_ind\u001b[0m\u001b[0;34m=\u001b[0m\u001b[0mnp\u001b[0m\u001b[0;34m.\u001b[0m\u001b[0mwhere\u001b[0m\u001b[0;34m(\u001b[0m\u001b[0mnp\u001b[0m\u001b[0;34m.\u001b[0m\u001b[0msum\u001b[0m\u001b[0;34m(\u001b[0m\u001b[0mfaces\u001b[0m\u001b[0;34m==\u001b[0m\u001b[0mnc\u001b[0m\u001b[0;34m,\u001b[0m\u001b[0maxis\u001b[0m\u001b[0;34m=\u001b[0m\u001b[0;36m1\u001b[0m\u001b[0;34m)\u001b[0m\u001b[0;34m>=\u001b[0m\u001b[0;36m1\u001b[0m\u001b[0;34m)\u001b[0m\u001b[0;34m[\u001b[0m\u001b[0;36m0\u001b[0m\u001b[0;34m]\u001b[0m \u001b[0;31m# Extract rows for each faces containing the current vertice\u001b[0m\u001b[0;34m\u001b[0m\u001b[0m\n",
      "\u001b[0m\u001b[0;32m    504 \u001b[0;31m        \u001b[0mfnorm\u001b[0m\u001b[0;34m=\u001b[0m\u001b[0mnp\u001b[0m\u001b[0;34m.\u001b[0m\u001b[0mndarray\u001b[0m\u001b[0;34m(\u001b[0m\u001b[0;34m[\u001b[0m\u001b[0;36m3\u001b[0m\u001b[0;34m,\u001b[0m\u001b[0mlen\u001b[0m\u001b[0;34m(\u001b[0m\u001b[0mfaces_ind\u001b[0m\u001b[0;34m)\u001b[0m\u001b[0;34m]\u001b[0m\u001b[0;34m)\u001b[0m\u001b[0;34m\u001b[0m\u001b[0m\n",
      "\u001b[0m\u001b[0;32m    505 \u001b[0;31m        \u001b[0;32mfor\u001b[0m \u001b[0mnf\u001b[0m\u001b[0;34m,\u001b[0m\u001b[0mnn\u001b[0m \u001b[0;32min\u001b[0m \u001b[0mzip\u001b[0m\u001b[0;34m(\u001b[0m\u001b[0mfaces_ind\u001b[0m\u001b[0;34m,\u001b[0m\u001b[0mnp\u001b[0m\u001b[0;34m.\u001b[0m\u001b[0marange\u001b[0m\u001b[0;34m(\u001b[0m\u001b[0;36m0\u001b[0m\u001b[0;34m,\u001b[0m\u001b[0mlen\u001b[0m\u001b[0;34m(\u001b[0m\u001b[0mfaces_ind\u001b[0m\u001b[0;34m)\u001b[0m\u001b[0;34m)\u001b[0m\u001b[0;34m)\u001b[0m\u001b[0;34m:\u001b[0m\u001b[0;34m\u001b[0m\u001b[0m\n",
      "\u001b[0m\n"
     ]
    }
   ],
   "source": [
    "# Compute gradient structure for surfaces\n",
    "\n",
    "# targ_list=['fsaverage5','fsaverage6','fsaverage']\n",
    "targ_list=['fsaverage6']\n",
    "surf_type='sphere'\n",
    "hemi=['lh']\n",
    "dest=opj(surf_data,'gradient')\n",
    "fs.assert_dir(dest)\n",
    "\n",
    "for targ in targ_list:\n",
    "    for hemi in hemi_type:\n",
    "        fname=opj(subjects_dir,targ,'surf',hemi+'.'+surf_type)\n",
    "        fmask=opj(surf_data,'mask',targ+'.'+hemi)\n",
    "        fout=opj(dest,targ+'.'+surf_type+'.'+hemi)\n",
    "        fs.surf_gradient_struct(fname,fmask,verbose=True,save_out=fout)"
   ]
  },
  {
   "cell_type": "code",
   "execution_count": 14,
   "metadata": {
    "collapsed": false
   },
   "outputs": [],
   "source": [
    "# Map all surface areas to fsaverage (might need to redo this if MSM is used)\n",
    "\n",
    "tracers=['cumi','dasb','sb','az','C36']\n",
    "hemi_type=['lh','rh']\n",
    "ico_list=['6']\n",
    "\n",
    "dest=opj(surf_data,'area')\n",
    "fs.assert_dir(dest)\n",
    "log_dest=opj(dest,'log')\n",
    "fs.assert_dir(log_dest)\n",
    "\n",
    "for ico in ico_list:\n",
    "    for hemi in hemi_type:\n",
    "        def mri_surf2surf(subj):\n",
    "            log_file=open(opj(log_dest,'mri_surf2surf.'+subj+'.'+ hemi +'.log'),'w')\n",
    "            sval=opj(atlas_dir,'proc','MR','recon_final',subj,'surf',hemi+'.area.mid')\n",
    "            out=opj(dest,subj+'.ico'+ico+'.'+hemi+'.nii.gz')\n",
    "            p=Popen(['mri_surf2surf','--hemi',hemi,'--srcsubject',subj,'--sval',sval,\n",
    "                    '--trgsubject','ico','--trgicoorder',ico,'--trgsurfval',out],\n",
    "                    stdout=log_file, stderr=log_file)\n",
    "            p.communicate()\n",
    "            log_file.close()\n",
    "        mrID_list=[x+'_GD' for x in np.unique(mrID)]\n",
    "        Parallel(n_jobs=20)(delayed (mri_surf2surf)(subj) for subj in mrID_list)"
   ]
  },
  {
   "cell_type": "code",
   "execution_count": 83,
   "metadata": {
    "collapsed": false
   },
   "outputs": [
    {
     "name": "stdout",
     "output_type": "stream",
     "text": [
      "Processing /data2/5HT_atlas/proc/MR/recon_final/fsaverage6/surf/lh.sphere\n",
      "5000/40962\n",
      "10000/40962\n",
      "15000/40962\n",
      "20000/40962\n",
      "25000/40962\n",
      "30000/40962\n",
      "35000/40962\n",
      "40000/40962\n"
     ]
    },
    {
     "name": "stderr",
     "output_type": "stream",
     "text": [
      "/data1/vbeliveau/software/anaconda3/lib/python3.5/site-packages/nibabel/spatialimages.py:411: UserWarning: Using large vector Freesurfer hack; header will not be compatible with SPM or FSL\n",
      "  hdr.set_data_shape(shape)\n"
     ]
    },
    {
     "name": "stdout",
     "output_type": "stream",
     "text": [
      "Processing /data2/5HT_atlas/proc/MR/recon_final/fsaverage6/surf/rh.sphere\n",
      "5000/40962\n",
      "10000/40962\n",
      "15000/40962\n",
      "20000/40962\n",
      "25000/40962\n",
      "30000/40962\n",
      "35000/40962\n",
      "40000/40962\n"
     ]
    }
   ],
   "source": [
    "# Compute area for sphere\n",
    "\n",
    "hemi_type=['lh','rh']\n",
    "ico_list=['6']\n",
    "for ico in ico_list:\n",
    "    if ico==7:\n",
    "        trg = 'fsaverage' \n",
    "    else:\n",
    "        trg = 'fsaverage'+ico\n",
    "    for hemi in hemi_type:\n",
    "        mesh=opj(subjects_dir,trg,'surf',hemi+'.sphere')\n",
    "        area=fs.surf_compute_area(mesh,verbose=True)\n",
    "        fname=opj(surf_data,'area','ico'+ico+'.'+hemi+'.nii.gz')\n",
    "        fmask=opj(surf_data,'mask',trg+'.'+hemi)\n",
    "        fs.save_surf_data(area,fname,mask=fmask)"
   ]
  },
  {
   "cell_type": "code",
   "execution_count": 136,
   "metadata": {
    "collapsed": false
   },
   "outputs": [
    {
     "name": "stdout",
     "output_type": "stream",
     "text": [
      "> \u001b[0;32m/indirect/data1/vbeliveau/5HT_clustering/fsutils.py\u001b[0m(572)\u001b[0;36msurf_gradient\u001b[0;34m()\u001b[0m\n",
      "\u001b[0;32m    570 \u001b[0;31m\u001b[0;34m\u001b[0m\u001b[0m\n",
      "\u001b[0m\u001b[0;32m    571 \u001b[0;31m    \u001b[0mTracer\u001b[0m\u001b[0;34m(\u001b[0m\u001b[0;34m)\u001b[0m\u001b[0;34m(\u001b[0m\u001b[0;34m)\u001b[0m\u001b[0;34m\u001b[0m\u001b[0m\n",
      "\u001b[0m\u001b[0;32m--> 572 \u001b[0;31m    \u001b[0;32mif\u001b[0m \u001b[0marea_ratio\u001b[0m \u001b[0;32mis\u001b[0m \u001b[0;32mnot\u001b[0m \u001b[0;32mNone\u001b[0m\u001b[0;34m:\u001b[0m\u001b[0;34m\u001b[0m\u001b[0m\n",
      "\u001b[0m\u001b[0;32m    573 \u001b[0;31m        \u001b[0;32mif\u001b[0m \u001b[0mverbose\u001b[0m\u001b[0;34m:\u001b[0m\u001b[0;34m\u001b[0m\u001b[0m\n",
      "\u001b[0m\u001b[0;32m    574 \u001b[0;31m            \u001b[0mprint\u001b[0m\u001b[0;34m(\u001b[0m\u001b[0;34m'Applying area correction'\u001b[0m\u001b[0;34m)\u001b[0m\u001b[0;34m\u001b[0m\u001b[0m\n",
      "\u001b[0m\n",
      "ipdb> n\n",
      "> \u001b[0;32m/indirect/data1/vbeliveau/5HT_clustering/fsutils.py\u001b[0m(573)\u001b[0;36msurf_gradient\u001b[0;34m()\u001b[0m\n",
      "\u001b[0;32m    571 \u001b[0;31m    \u001b[0mTracer\u001b[0m\u001b[0;34m(\u001b[0m\u001b[0;34m)\u001b[0m\u001b[0;34m(\u001b[0m\u001b[0;34m)\u001b[0m\u001b[0;34m\u001b[0m\u001b[0m\n",
      "\u001b[0m\u001b[0;32m    572 \u001b[0;31m    \u001b[0;32mif\u001b[0m \u001b[0marea_ratio\u001b[0m \u001b[0;32mis\u001b[0m \u001b[0;32mnot\u001b[0m \u001b[0;32mNone\u001b[0m\u001b[0;34m:\u001b[0m\u001b[0;34m\u001b[0m\u001b[0m\n",
      "\u001b[0m\u001b[0;32m--> 573 \u001b[0;31m        \u001b[0;32mif\u001b[0m \u001b[0mverbose\u001b[0m\u001b[0;34m:\u001b[0m\u001b[0;34m\u001b[0m\u001b[0m\n",
      "\u001b[0m\u001b[0;32m    574 \u001b[0;31m            \u001b[0mprint\u001b[0m\u001b[0;34m(\u001b[0m\u001b[0;34m'Applying area correction'\u001b[0m\u001b[0;34m)\u001b[0m\u001b[0;34m\u001b[0m\u001b[0m\n",
      "\u001b[0m\u001b[0;32m    575 \u001b[0;31m        \u001b[0marea_neigh\u001b[0m\u001b[0;34m,\u001b[0m\u001b[0marea_vertices\u001b[0m\u001b[0;34m=\u001b[0m\u001b[0mload_surf_neighborhood\u001b[0m\u001b[0;34m(\u001b[0m\u001b[0mfneigh\u001b[0m\u001b[0;34m)\u001b[0m\u001b[0;34m\u001b[0m\u001b[0m\n",
      "\u001b[0m\n",
      "ipdb> n\n",
      "> \u001b[0;32m/indirect/data1/vbeliveau/5HT_clustering/fsutils.py\u001b[0m(575)\u001b[0;36msurf_gradient\u001b[0;34m()\u001b[0m\n",
      "\u001b[0;32m    573 \u001b[0;31m        \u001b[0;32mif\u001b[0m \u001b[0mverbose\u001b[0m\u001b[0;34m:\u001b[0m\u001b[0;34m\u001b[0m\u001b[0m\n",
      "\u001b[0m\u001b[0;32m    574 \u001b[0;31m            \u001b[0mprint\u001b[0m\u001b[0;34m(\u001b[0m\u001b[0;34m'Applying area correction'\u001b[0m\u001b[0;34m)\u001b[0m\u001b[0;34m\u001b[0m\u001b[0m\n",
      "\u001b[0m\u001b[0;32m--> 575 \u001b[0;31m        \u001b[0marea_neigh\u001b[0m\u001b[0;34m,\u001b[0m\u001b[0marea_vertices\u001b[0m\u001b[0;34m=\u001b[0m\u001b[0mload_surf_neighborhood\u001b[0m\u001b[0;34m(\u001b[0m\u001b[0mfneigh\u001b[0m\u001b[0;34m)\u001b[0m\u001b[0;34m\u001b[0m\u001b[0m\n",
      "\u001b[0m\u001b[0;32m    576 \u001b[0;31m        \u001b[0;32mif\u001b[0m \u001b[0marea_ratio\u001b[0m \u001b[0;32mis\u001b[0m \u001b[0;32mnot\u001b[0m \u001b[0;32mNone\u001b[0m\u001b[0;34m:\u001b[0m\u001b[0;34m\u001b[0m\u001b[0m\n",
      "\u001b[0m\u001b[0;32m    577 \u001b[0;31m            \u001b[0;32mfor\u001b[0m \u001b[0mnc\u001b[0m \u001b[0;32min\u001b[0m \u001b[0mnp\u001b[0m\u001b[0;34m.\u001b[0m\u001b[0marange\u001b[0m\u001b[0;34m(\u001b[0m\u001b[0;36m0\u001b[0m\u001b[0;34m,\u001b[0m\u001b[0mlen\u001b[0m\u001b[0;34m(\u001b[0m\u001b[0mcortex\u001b[0m\u001b[0;34m)\u001b[0m\u001b[0;34m)\u001b[0m\u001b[0;34m:\u001b[0m\u001b[0;34m\u001b[0m\u001b[0m\n",
      "\u001b[0m\n",
      "ipdb> n\n",
      "> \u001b[0;32m/indirect/data1/vbeliveau/5HT_clustering/fsutils.py\u001b[0m(576)\u001b[0;36msurf_gradient\u001b[0;34m()\u001b[0m\n",
      "\u001b[0;32m    574 \u001b[0;31m            \u001b[0mprint\u001b[0m\u001b[0;34m(\u001b[0m\u001b[0;34m'Applying area correction'\u001b[0m\u001b[0;34m)\u001b[0m\u001b[0;34m\u001b[0m\u001b[0m\n",
      "\u001b[0m\u001b[0;32m    575 \u001b[0;31m        \u001b[0marea_neigh\u001b[0m\u001b[0;34m,\u001b[0m\u001b[0marea_vertices\u001b[0m\u001b[0;34m=\u001b[0m\u001b[0mload_surf_neighborhood\u001b[0m\u001b[0;34m(\u001b[0m\u001b[0mfneigh\u001b[0m\u001b[0;34m)\u001b[0m\u001b[0;34m\u001b[0m\u001b[0m\n",
      "\u001b[0m\u001b[0;32m--> 576 \u001b[0;31m        \u001b[0;32mif\u001b[0m \u001b[0marea_ratio\u001b[0m \u001b[0;32mis\u001b[0m \u001b[0;32mnot\u001b[0m \u001b[0;32mNone\u001b[0m\u001b[0;34m:\u001b[0m\u001b[0;34m\u001b[0m\u001b[0m\n",
      "\u001b[0m\u001b[0;32m    577 \u001b[0;31m            \u001b[0;32mfor\u001b[0m \u001b[0mnc\u001b[0m \u001b[0;32min\u001b[0m \u001b[0mnp\u001b[0m\u001b[0;34m.\u001b[0m\u001b[0marange\u001b[0m\u001b[0;34m(\u001b[0m\u001b[0;36m0\u001b[0m\u001b[0;34m,\u001b[0m\u001b[0mlen\u001b[0m\u001b[0;34m(\u001b[0m\u001b[0mcortex\u001b[0m\u001b[0;34m)\u001b[0m\u001b[0;34m)\u001b[0m\u001b[0;34m:\u001b[0m\u001b[0;34m\u001b[0m\u001b[0m\n",
      "\u001b[0m\u001b[0;32m    578 \u001b[0;31m                \u001b[0;32mfor\u001b[0m \u001b[0mnb\u001b[0m \u001b[0;32min\u001b[0m \u001b[0mnp\u001b[0m\u001b[0;34m.\u001b[0m\u001b[0marange\u001b[0m\u001b[0;34m(\u001b[0m\u001b[0;36m0\u001b[0m\u001b[0;34m,\u001b[0m\u001b[0mlen\u001b[0m\u001b[0;34m(\u001b[0m\u001b[0mneigh\u001b[0m\u001b[0;34m[\u001b[0m\u001b[0mnc\u001b[0m\u001b[0;34m]\u001b[0m\u001b[0;34m)\u001b[0m\u001b[0;34m)\u001b[0m\u001b[0;34m:\u001b[0m\u001b[0;34m\u001b[0m\u001b[0m\n",
      "\u001b[0m\n",
      "ipdb> n\n",
      "> \u001b[0;32m/indirect/data1/vbeliveau/5HT_clustering/fsutils.py\u001b[0m(577)\u001b[0;36msurf_gradient\u001b[0;34m()\u001b[0m\n",
      "\u001b[0;32m    575 \u001b[0;31m        \u001b[0marea_neigh\u001b[0m\u001b[0;34m,\u001b[0m\u001b[0marea_vertices\u001b[0m\u001b[0;34m=\u001b[0m\u001b[0mload_surf_neighborhood\u001b[0m\u001b[0;34m(\u001b[0m\u001b[0mfneigh\u001b[0m\u001b[0;34m)\u001b[0m\u001b[0;34m\u001b[0m\u001b[0m\n",
      "\u001b[0m\u001b[0;32m    576 \u001b[0;31m        \u001b[0;32mif\u001b[0m \u001b[0marea_ratio\u001b[0m \u001b[0;32mis\u001b[0m \u001b[0;32mnot\u001b[0m \u001b[0;32mNone\u001b[0m\u001b[0;34m:\u001b[0m\u001b[0;34m\u001b[0m\u001b[0m\n",
      "\u001b[0m\u001b[0;32m--> 577 \u001b[0;31m            \u001b[0;32mfor\u001b[0m \u001b[0mnc\u001b[0m \u001b[0;32min\u001b[0m \u001b[0mnp\u001b[0m\u001b[0;34m.\u001b[0m\u001b[0marange\u001b[0m\u001b[0;34m(\u001b[0m\u001b[0;36m0\u001b[0m\u001b[0;34m,\u001b[0m\u001b[0mlen\u001b[0m\u001b[0;34m(\u001b[0m\u001b[0mcortex\u001b[0m\u001b[0;34m)\u001b[0m\u001b[0;34m)\u001b[0m\u001b[0;34m:\u001b[0m\u001b[0;34m\u001b[0m\u001b[0m\n",
      "\u001b[0m\u001b[0;32m    578 \u001b[0;31m                \u001b[0;32mfor\u001b[0m \u001b[0mnb\u001b[0m \u001b[0;32min\u001b[0m \u001b[0mnp\u001b[0m\u001b[0;34m.\u001b[0m\u001b[0marange\u001b[0m\u001b[0;34m(\u001b[0m\u001b[0;36m0\u001b[0m\u001b[0;34m,\u001b[0m\u001b[0mlen\u001b[0m\u001b[0;34m(\u001b[0m\u001b[0mneigh\u001b[0m\u001b[0;34m[\u001b[0m\u001b[0mnc\u001b[0m\u001b[0;34m]\u001b[0m\u001b[0;34m)\u001b[0m\u001b[0;34m)\u001b[0m\u001b[0;34m:\u001b[0m\u001b[0;34m\u001b[0m\u001b[0m\n",
      "\u001b[0m\u001b[0;32m    579 \u001b[0;31m                    \u001b[0mind\u001b[0m\u001b[0;34m=\u001b[0m\u001b[0marea_vertices\u001b[0m\u001b[0;34m==\u001b[0m\u001b[0mcortex\u001b[0m\u001b[0;34m[\u001b[0m\u001b[0mnc\u001b[0m\u001b[0;34m]\u001b[0m \u001b[0;31m# Find area vertice corresponding to current cortex vertice\u001b[0m\u001b[0;34m\u001b[0m\u001b[0m\n",
      "\u001b[0m\n",
      "ipdb> n\n",
      "> \u001b[0;32m/indirect/data1/vbeliveau/5HT_clustering/fsutils.py\u001b[0m(578)\u001b[0;36msurf_gradient\u001b[0;34m()\u001b[0m\n",
      "\u001b[0;32m    576 \u001b[0;31m        \u001b[0;32mif\u001b[0m \u001b[0marea_ratio\u001b[0m \u001b[0;32mis\u001b[0m \u001b[0;32mnot\u001b[0m \u001b[0;32mNone\u001b[0m\u001b[0;34m:\u001b[0m\u001b[0;34m\u001b[0m\u001b[0m\n",
      "\u001b[0m\u001b[0;32m    577 \u001b[0;31m            \u001b[0;32mfor\u001b[0m \u001b[0mnc\u001b[0m \u001b[0;32min\u001b[0m \u001b[0mnp\u001b[0m\u001b[0;34m.\u001b[0m\u001b[0marange\u001b[0m\u001b[0;34m(\u001b[0m\u001b[0;36m0\u001b[0m\u001b[0;34m,\u001b[0m\u001b[0mlen\u001b[0m\u001b[0;34m(\u001b[0m\u001b[0mcortex\u001b[0m\u001b[0;34m)\u001b[0m\u001b[0;34m)\u001b[0m\u001b[0;34m:\u001b[0m\u001b[0;34m\u001b[0m\u001b[0m\n",
      "\u001b[0m\u001b[0;32m--> 578 \u001b[0;31m                \u001b[0;32mfor\u001b[0m \u001b[0mnb\u001b[0m \u001b[0;32min\u001b[0m \u001b[0mnp\u001b[0m\u001b[0;34m.\u001b[0m\u001b[0marange\u001b[0m\u001b[0;34m(\u001b[0m\u001b[0;36m0\u001b[0m\u001b[0;34m,\u001b[0m\u001b[0mlen\u001b[0m\u001b[0;34m(\u001b[0m\u001b[0mneigh\u001b[0m\u001b[0;34m[\u001b[0m\u001b[0mnc\u001b[0m\u001b[0;34m]\u001b[0m\u001b[0;34m)\u001b[0m\u001b[0;34m)\u001b[0m\u001b[0;34m:\u001b[0m\u001b[0;34m\u001b[0m\u001b[0m\n",
      "\u001b[0m\u001b[0;32m    579 \u001b[0;31m                    \u001b[0mind\u001b[0m\u001b[0;34m=\u001b[0m\u001b[0marea_vertices\u001b[0m\u001b[0;34m==\u001b[0m\u001b[0mcortex\u001b[0m\u001b[0;34m[\u001b[0m\u001b[0mnc\u001b[0m\u001b[0;34m]\u001b[0m \u001b[0;31m# Find area vertice corresponding to current cortex vertice\u001b[0m\u001b[0;34m\u001b[0m\u001b[0m\n",
      "\u001b[0m\u001b[0;32m    580 \u001b[0;31m                    \u001b[0mproj\u001b[0m\u001b[0;34m[\u001b[0m\u001b[0mnc\u001b[0m\u001b[0;34m]\u001b[0m\u001b[0;34m[\u001b[0m\u001b[0mnb\u001b[0m\u001b[0;34m,\u001b[0m\u001b[0;34m:\u001b[0m\u001b[0;34m]\u001b[0m\u001b[0;34m=\u001b[0m\u001b[0mproj\u001b[0m\u001b[0;34m[\u001b[0m\u001b[0mnc\u001b[0m\u001b[0;34m]\u001b[0m\u001b[0;34m[\u001b[0m\u001b[0mnb\u001b[0m\u001b[0;34m,\u001b[0m\u001b[0;34m:\u001b[0m\u001b[0;34m]\u001b[0m\u001b[0;34m*\u001b[0m\u001b[0marea_ratio\u001b[0m\u001b[0;34m[\u001b[0m\u001b[0mind\u001b[0m\u001b[0;34m]\u001b[0m\u001b[0;34m[\u001b[0m\u001b[0mnb\u001b[0m\u001b[0;34m==\u001b[0m\u001b[0marea_neigh\u001b[0m\u001b[0;34m[\u001b[0m\u001b[0mind\u001b[0m\u001b[0;34m]\u001b[0m\u001b[0;34m]\u001b[0m\u001b[0;34m\u001b[0m\u001b[0m\n",
      "\u001b[0m\n",
      "ipdb> n\n",
      "> \u001b[0;32m/indirect/data1/vbeliveau/5HT_clustering/fsutils.py\u001b[0m(579)\u001b[0;36msurf_gradient\u001b[0;34m()\u001b[0m\n",
      "\u001b[0;32m    577 \u001b[0;31m            \u001b[0;32mfor\u001b[0m \u001b[0mnc\u001b[0m \u001b[0;32min\u001b[0m \u001b[0mnp\u001b[0m\u001b[0;34m.\u001b[0m\u001b[0marange\u001b[0m\u001b[0;34m(\u001b[0m\u001b[0;36m0\u001b[0m\u001b[0;34m,\u001b[0m\u001b[0mlen\u001b[0m\u001b[0;34m(\u001b[0m\u001b[0mcortex\u001b[0m\u001b[0;34m)\u001b[0m\u001b[0;34m)\u001b[0m\u001b[0;34m:\u001b[0m\u001b[0;34m\u001b[0m\u001b[0m\n",
      "\u001b[0m\u001b[0;32m    578 \u001b[0;31m                \u001b[0;32mfor\u001b[0m \u001b[0mnb\u001b[0m \u001b[0;32min\u001b[0m \u001b[0mnp\u001b[0m\u001b[0;34m.\u001b[0m\u001b[0marange\u001b[0m\u001b[0;34m(\u001b[0m\u001b[0;36m0\u001b[0m\u001b[0;34m,\u001b[0m\u001b[0mlen\u001b[0m\u001b[0;34m(\u001b[0m\u001b[0mneigh\u001b[0m\u001b[0;34m[\u001b[0m\u001b[0mnc\u001b[0m\u001b[0;34m]\u001b[0m\u001b[0;34m)\u001b[0m\u001b[0;34m)\u001b[0m\u001b[0;34m:\u001b[0m\u001b[0;34m\u001b[0m\u001b[0m\n",
      "\u001b[0m\u001b[0;32m--> 579 \u001b[0;31m                    \u001b[0mind\u001b[0m\u001b[0;34m=\u001b[0m\u001b[0marea_vertices\u001b[0m\u001b[0;34m==\u001b[0m\u001b[0mcortex\u001b[0m\u001b[0;34m[\u001b[0m\u001b[0mnc\u001b[0m\u001b[0;34m]\u001b[0m \u001b[0;31m# Find area vertice corresponding to current cortex vertice\u001b[0m\u001b[0;34m\u001b[0m\u001b[0m\n",
      "\u001b[0m\u001b[0;32m    580 \u001b[0;31m                    \u001b[0mproj\u001b[0m\u001b[0;34m[\u001b[0m\u001b[0mnc\u001b[0m\u001b[0;34m]\u001b[0m\u001b[0;34m[\u001b[0m\u001b[0mnb\u001b[0m\u001b[0;34m,\u001b[0m\u001b[0;34m:\u001b[0m\u001b[0;34m]\u001b[0m\u001b[0;34m=\u001b[0m\u001b[0mproj\u001b[0m\u001b[0;34m[\u001b[0m\u001b[0mnc\u001b[0m\u001b[0;34m]\u001b[0m\u001b[0;34m[\u001b[0m\u001b[0mnb\u001b[0m\u001b[0;34m,\u001b[0m\u001b[0;34m:\u001b[0m\u001b[0;34m]\u001b[0m\u001b[0;34m*\u001b[0m\u001b[0marea_ratio\u001b[0m\u001b[0;34m[\u001b[0m\u001b[0mind\u001b[0m\u001b[0;34m]\u001b[0m\u001b[0;34m[\u001b[0m\u001b[0mnb\u001b[0m\u001b[0;34m==\u001b[0m\u001b[0marea_neigh\u001b[0m\u001b[0;34m[\u001b[0m\u001b[0mind\u001b[0m\u001b[0;34m]\u001b[0m\u001b[0;34m]\u001b[0m\u001b[0;34m\u001b[0m\u001b[0m\n",
      "\u001b[0m\u001b[0;32m    581 \u001b[0;31m\u001b[0;34m\u001b[0m\u001b[0m\n",
      "\u001b[0m\n",
      "ipdb> cortex[nc]\n",
      "0\n",
      "ipdb> vertices\n",
      "*** NameError: name 'vertices' is not defined\n",
      "ipdb> area_vertices\n",
      "array([    0,     1,     2, ..., 40959, 40960, 40961])\n",
      "ipdb> n\n",
      "> \u001b[0;32m/indirect/data1/vbeliveau/5HT_clustering/fsutils.py\u001b[0m(580)\u001b[0;36msurf_gradient\u001b[0;34m()\u001b[0m\n",
      "\u001b[0;32m    578 \u001b[0;31m                \u001b[0;32mfor\u001b[0m \u001b[0mnb\u001b[0m \u001b[0;32min\u001b[0m \u001b[0mnp\u001b[0m\u001b[0;34m.\u001b[0m\u001b[0marange\u001b[0m\u001b[0;34m(\u001b[0m\u001b[0;36m0\u001b[0m\u001b[0;34m,\u001b[0m\u001b[0mlen\u001b[0m\u001b[0;34m(\u001b[0m\u001b[0mneigh\u001b[0m\u001b[0;34m[\u001b[0m\u001b[0mnc\u001b[0m\u001b[0;34m]\u001b[0m\u001b[0;34m)\u001b[0m\u001b[0;34m)\u001b[0m\u001b[0;34m:\u001b[0m\u001b[0;34m\u001b[0m\u001b[0m\n",
      "\u001b[0m\u001b[0;32m    579 \u001b[0;31m                    \u001b[0mind\u001b[0m\u001b[0;34m=\u001b[0m\u001b[0marea_vertices\u001b[0m\u001b[0;34m==\u001b[0m\u001b[0mcortex\u001b[0m\u001b[0;34m[\u001b[0m\u001b[0mnc\u001b[0m\u001b[0;34m]\u001b[0m \u001b[0;31m# Find area vertice corresponding to current cortex vertice\u001b[0m\u001b[0;34m\u001b[0m\u001b[0m\n",
      "\u001b[0m\u001b[0;32m--> 580 \u001b[0;31m                    \u001b[0mproj\u001b[0m\u001b[0;34m[\u001b[0m\u001b[0mnc\u001b[0m\u001b[0;34m]\u001b[0m\u001b[0;34m[\u001b[0m\u001b[0mnb\u001b[0m\u001b[0;34m,\u001b[0m\u001b[0;34m:\u001b[0m\u001b[0;34m]\u001b[0m\u001b[0;34m=\u001b[0m\u001b[0mproj\u001b[0m\u001b[0;34m[\u001b[0m\u001b[0mnc\u001b[0m\u001b[0;34m]\u001b[0m\u001b[0;34m[\u001b[0m\u001b[0mnb\u001b[0m\u001b[0;34m,\u001b[0m\u001b[0;34m:\u001b[0m\u001b[0;34m]\u001b[0m\u001b[0;34m*\u001b[0m\u001b[0marea_ratio\u001b[0m\u001b[0;34m[\u001b[0m\u001b[0mind\u001b[0m\u001b[0;34m]\u001b[0m\u001b[0;34m[\u001b[0m\u001b[0mnb\u001b[0m\u001b[0;34m==\u001b[0m\u001b[0marea_neigh\u001b[0m\u001b[0;34m[\u001b[0m\u001b[0mind\u001b[0m\u001b[0;34m]\u001b[0m\u001b[0;34m]\u001b[0m\u001b[0;34m\u001b[0m\u001b[0m\n",
      "\u001b[0m\u001b[0;32m    581 \u001b[0;31m\u001b[0;34m\u001b[0m\u001b[0m\n",
      "\u001b[0m\u001b[0;32m    582 \u001b[0;31m    \u001b[0;32mif\u001b[0m \u001b[0mverbose\u001b[0m\u001b[0;34m:\u001b[0m\u001b[0;34m\u001b[0m\u001b[0m\n",
      "\u001b[0m\n",
      "ipdb> proj[nc][nb,:]\n",
      "array([ nan,  nan])\n",
      "ipdb> proj[nc]\n",
      "array([[ nan,  nan],\n",
      "       [ nan,  nan],\n",
      "       [ nan,  nan],\n",
      "       [ nan,  nan],\n",
      "       [ nan,  nan],\n",
      "       [ nan,  nan]])\n",
      "ipdb> area_ratio[ind]\n"
     ]
    },
    {
     "name": "stderr",
     "output_type": "stream",
     "text": [
      "/indirect/data1/vbeliveau/5HT_clustering/fsutils.py:1: VisibleDeprecationWarning: boolean index did not match indexed array along dimension 0; dimension is 40961 but corresponding boolean dimension is 37476\n",
      "  import numpy as np\n"
     ]
    },
    {
     "name": "stdout",
     "output_type": "stream",
     "text": [
      "array([array([ 0.3581608 ,  0.37917011,  0.38724795,  0.38235468,  0.37787507])], dtype=object)\n",
      "ipdb> np.sum(ind)\n",
      "1\n",
      "ipdb> nb==area_neigh[ind]\n",
      "array([False], dtype=bool)\n",
      "ipdb> area_neigh[ind]\n",
      "array([[9372, 9374, 9375, 9377, 9379]], dtype=object)\n",
      "ipdb> nb\n",
      "0\n",
      "ipdb> neigh[nc]\n",
      "array([    0, 10242, 10244, 10245, 10247, 10249])\n",
      "ipdb> q\n"
     ]
    },
    {
     "name": "stderr",
     "output_type": "stream",
     "text": [
      "/indirect/data1/vbeliveau/5HT_clustering/fsutils.py:580: VisibleDeprecationWarning: boolean index did not match indexed array along dimension 0; dimension is 40961 but corresponding boolean dimension is 37476\n",
      "  proj[nc][nb,:]=proj[nc][nb,:]*area_ratio[ind][nb==area_neigh[ind]]\n"
     ]
    },
    {
     "ename": "ValueError",
     "evalue": "operands could not be broadcast together with shapes (2,) (0,) ",
     "output_type": "error",
     "traceback": [
      "\u001b[0;31m---------------------------------------------------------------------------\u001b[0m",
      "\u001b[0;31mValueError\u001b[0m                                Traceback (most recent call last)",
      "\u001b[0;32m<ipython-input-136-abc470edb259>\u001b[0m in \u001b[0;36m<module>\u001b[0;34m()\u001b[0m\n\u001b[1;32m     48\u001b[0m         \u001b[0;31m# Compute gradient\u001b[0m\u001b[0;34m\u001b[0m\u001b[0;34m\u001b[0m\u001b[0m\n\u001b[1;32m     49\u001b[0m         \u001b[0mfgrad\u001b[0m\u001b[0;34m=\u001b[0m\u001b[0mopj\u001b[0m\u001b[0;34m(\u001b[0m\u001b[0msurf_data\u001b[0m\u001b[0;34m,\u001b[0m\u001b[0;34m'gradient'\u001b[0m\u001b[0;34m,\u001b[0m\u001b[0mtrg\u001b[0m\u001b[0;34m+\u001b[0m\u001b[0;34m'.'\u001b[0m\u001b[0;34m+\u001b[0m\u001b[0msurf_type\u001b[0m\u001b[0;34m+\u001b[0m\u001b[0;34m'.'\u001b[0m\u001b[0;34m+\u001b[0m\u001b[0mhemi\u001b[0m\u001b[0;34m)\u001b[0m\u001b[0;34m\u001b[0m\u001b[0m\n\u001b[0;32m---> 50\u001b[0;31m         \u001b[0mgrad\u001b[0m\u001b[0;34m=\u001b[0m\u001b[0mfs\u001b[0m\u001b[0;34m.\u001b[0m\u001b[0msurf_gradient\u001b[0m\u001b[0;34m(\u001b[0m\u001b[0mdata\u001b[0m\u001b[0;34m,\u001b[0m\u001b[0mfgrad\u001b[0m\u001b[0;34m,\u001b[0m\u001b[0marea_ratio\u001b[0m\u001b[0;34m=\u001b[0m\u001b[0marea_ratio\u001b[0m\u001b[0;34m,\u001b[0m\u001b[0mfneigh\u001b[0m\u001b[0;34m=\u001b[0m\u001b[0mfneigh\u001b[0m\u001b[0;34m)\u001b[0m\u001b[0;34m\u001b[0m\u001b[0m\n\u001b[0m\u001b[1;32m     51\u001b[0m         \u001b[0mfname\u001b[0m\u001b[0;34m=\u001b[0m\u001b[0mopj\u001b[0m\u001b[0;34m(\u001b[0m\u001b[0mdest\u001b[0m\u001b[0;34m,\u001b[0m\u001b[0;34m'grad.'\u001b[0m\u001b[0;34m+\u001b[0m\u001b[0mtracer\u001b[0m\u001b[0;34m+\u001b[0m\u001b[0;34m'.ico'\u001b[0m\u001b[0;34m+\u001b[0m\u001b[0mico\u001b[0m\u001b[0;34m+\u001b[0m\u001b[0;34m'.'\u001b[0m\u001b[0;34m+\u001b[0m\u001b[0mhemi\u001b[0m\u001b[0;34m+\u001b[0m\u001b[0;34m'nii.gz'\u001b[0m\u001b[0;34m)\u001b[0m\u001b[0;34m\u001b[0m\u001b[0m\n\u001b[1;32m     52\u001b[0m         \u001b[0mfmask\u001b[0m\u001b[0;34m=\u001b[0m\u001b[0mopj\u001b[0m\u001b[0;34m(\u001b[0m\u001b[0msurf_data\u001b[0m\u001b[0;34m,\u001b[0m\u001b[0;34m'mask'\u001b[0m\u001b[0;34m,\u001b[0m\u001b[0mtrg\u001b[0m\u001b[0;34m+\u001b[0m\u001b[0;34m'.'\u001b[0m\u001b[0;34m+\u001b[0m\u001b[0mhemi\u001b[0m\u001b[0;34m)\u001b[0m\u001b[0;34m\u001b[0m\u001b[0m\n",
      "\u001b[0;32m/indirect/data1/vbeliveau/5HT_clustering/fsutils.py\u001b[0m in \u001b[0;36msurf_gradient\u001b[0;34m(data, fgrad, area_ratio, fneigh, verbose)\u001b[0m\n\u001b[1;32m    578\u001b[0m                 \u001b[0;32mfor\u001b[0m \u001b[0mnb\u001b[0m \u001b[0;32min\u001b[0m \u001b[0mnp\u001b[0m\u001b[0;34m.\u001b[0m\u001b[0marange\u001b[0m\u001b[0;34m(\u001b[0m\u001b[0;36m0\u001b[0m\u001b[0;34m,\u001b[0m\u001b[0mlen\u001b[0m\u001b[0;34m(\u001b[0m\u001b[0mneigh\u001b[0m\u001b[0;34m[\u001b[0m\u001b[0mnc\u001b[0m\u001b[0;34m]\u001b[0m\u001b[0;34m)\u001b[0m\u001b[0;34m)\u001b[0m\u001b[0;34m:\u001b[0m\u001b[0;34m\u001b[0m\u001b[0m\n\u001b[1;32m    579\u001b[0m                     \u001b[0mind\u001b[0m\u001b[0;34m=\u001b[0m\u001b[0marea_vertices\u001b[0m\u001b[0;34m==\u001b[0m\u001b[0mcortex\u001b[0m\u001b[0;34m[\u001b[0m\u001b[0mnc\u001b[0m\u001b[0;34m]\u001b[0m \u001b[0;31m# Find area vertice corresponding to current cortex vertice\u001b[0m\u001b[0;34m\u001b[0m\u001b[0m\n\u001b[0;32m--> 580\u001b[0;31m                     \u001b[0mproj\u001b[0m\u001b[0;34m[\u001b[0m\u001b[0mnc\u001b[0m\u001b[0;34m]\u001b[0m\u001b[0;34m[\u001b[0m\u001b[0mnb\u001b[0m\u001b[0;34m,\u001b[0m\u001b[0;34m:\u001b[0m\u001b[0;34m]\u001b[0m\u001b[0;34m=\u001b[0m\u001b[0mproj\u001b[0m\u001b[0;34m[\u001b[0m\u001b[0mnc\u001b[0m\u001b[0;34m]\u001b[0m\u001b[0;34m[\u001b[0m\u001b[0mnb\u001b[0m\u001b[0;34m,\u001b[0m\u001b[0;34m:\u001b[0m\u001b[0;34m]\u001b[0m\u001b[0;34m*\u001b[0m\u001b[0marea_ratio\u001b[0m\u001b[0;34m[\u001b[0m\u001b[0mind\u001b[0m\u001b[0;34m]\u001b[0m\u001b[0;34m[\u001b[0m\u001b[0mnb\u001b[0m\u001b[0;34m==\u001b[0m\u001b[0marea_neigh\u001b[0m\u001b[0;34m[\u001b[0m\u001b[0mind\u001b[0m\u001b[0;34m]\u001b[0m\u001b[0;34m]\u001b[0m\u001b[0;34m\u001b[0m\u001b[0m\n\u001b[0m\u001b[1;32m    581\u001b[0m \u001b[0;34m\u001b[0m\u001b[0m\n\u001b[1;32m    582\u001b[0m     \u001b[0;32mif\u001b[0m \u001b[0mverbose\u001b[0m\u001b[0;34m:\u001b[0m\u001b[0;34m\u001b[0m\u001b[0m\n",
      "\u001b[0;31mValueError\u001b[0m: operands could not be broadcast together with shapes (2,) (0,) "
     ]
    }
   ],
   "source": [
    "# Compute gradient for BPnd\n",
    "\n",
    "tracers=['cumi','dasb','sb','az','C36']\n",
    "ico='6'\n",
    "hemi_type=['lh','rh']\n",
    "fwhm='5'\n",
    "surf_type='sphere'\n",
    "fgrad=opj(surf_data,'gradient',targ+'.'+surf_type+'.'+hemi)\n",
    "bpnd_dest=opj(surf_data,'bpnd.mrtm2.nopvc')\n",
    "\n",
    "# Process BPnd\n",
    "grad_dest=opj(BPnd_data,'gradient')\n",
    "fs.assert_dir(grad_dest)\n",
    "\n",
    "if ico==7:\n",
    "    trg = 'fsaverage' \n",
    "else:\n",
    "    trg = 'fsaverage'+ico\n",
    "\n",
    "for tracer in tracers:\n",
    "    for hemi in hemi_type:\n",
    "        petID_list=petID[np.array([re.search('^'+tracer,x) is not None for x in petID])]\n",
    "        mrID_list=mrID[np.array([re.search('^'+tracer,x) is not None for x in petID])]\n",
    "        mrID_list=[x+'_GD' for x in mrID_list]\n",
    "        \n",
    "        # Load PET data and average\n",
    "        data=np.ndarray(len(petID_list),dtype=object)\n",
    "        for subj,n in zip(petID_list,np.arange(0,len(petID_list))):\n",
    "            fname=opj(bpnd_dest,subj+'.ico'+ico+'.'+hemi+'.sm'+fwhm,'bp.nii.gz')\n",
    "            data[n]=fs.load_surf_data(fname)\n",
    "        data=np.vstack(data).mean(axis=0)\n",
    "        \n",
    "        # Load area data and average\n",
    "        area=np.ndarray(len(mrID_list),dtype=object)\n",
    "        for subj,n in zip(mrID_list,np.arange(0,len(mrID_list))):\n",
    "            fname=opj(surf_data,'area',subj+'.ico'+ico+'.'+hemi+'.nii.gz')\n",
    "            area[n]=fs.load_surf_data(fname)\n",
    "        area=np.vstack(area).mean(axis=0)\n",
    "        \n",
    "        # Load average surface area\n",
    "        fname=opj(surf_data,'area','ico'+ico+'.'+hemi+'.nii.gz')\n",
    "        avg_area=fs.load_surf_data(fname)\n",
    "        \n",
    "        # Compute area ratio\n",
    "        fneigh=opj(surf_data,'neigh',trg+'.'+hemi+'.cortex.list')\n",
    "        area_ratio=fs.surf_area_ratio(area,avg_area,fneigh)\n",
    "        \n",
    "        # Compute gradient        \n",
    "        fgrad=opj(surf_data,'gradient',trg+'.'+surf_type+'.'+hemi)\n",
    "        grad=fs.surf_gradient(data,fgrad,area_ratio=area_ratio,fneigh=fneigh)\n",
    "        fname=opj(dest,'grad.'+tracer+'.ico'+ico+'.'+hemi+'nii.gz')\n",
    "        fmask=opj(surf_data,'mask',trg+'.'+hemi)\n",
    "        fs.save_surf_data(grad,fname,mask=fmask)"
   ]
  },
  {
   "cell_type": "code",
   "execution_count": 138,
   "metadata": {
    "collapsed": false
   },
   "outputs": [],
   "source": [
    "gs,_,_,_=fs.load_surf_gradient(fgrad)"
   ]
  },
  {
   "cell_type": "code",
   "execution_count": 147,
   "metadata": {
    "collapsed": false
   },
   "outputs": [],
   "source": [
    "neigh,vert=fs.load_surf_neighborhood(opj(surf_data,'neigh','fsaverage5.lh.list'))"
   ]
  },
  {
   "cell_type": "code",
   "execution_count": 148,
   "metadata": {
    "collapsed": false
   },
   "outputs": [
    {
     "data": {
      "text/plain": [
       "[0, 2562, 2564, 2565, 2567, 2569]"
      ]
     },
     "execution_count": 148,
     "metadata": {},
     "output_type": "execute_result"
    }
   ],
   "source": [
    "neigh[0]"
   ]
  }
 ],
 "metadata": {
  "anaconda-cloud": {},
  "kernelspec": {
   "display_name": "Python [conda root]",
   "language": "python",
   "name": "conda-root-py"
  },
  "language_info": {
   "codemirror_mode": {
    "name": "ipython",
    "version": 3
   },
   "file_extension": ".py",
   "mimetype": "text/x-python",
   "name": "python",
   "nbconvert_exporter": "python",
   "pygments_lexer": "ipython3",
   "version": "3.5.2"
  }
 },
 "nbformat": 4,
 "nbformat_minor": 1
}
